{
 "cells": [
  {
   "cell_type": "markdown",
   "metadata": {
    "application/vnd.databricks.v1+cell": {
     "cellMetadata": {},
     "inputWidgets": {},
     "nuid": "88f001b7-7af6-4b2b-af71-0fc677a61090",
     "showTitle": false,
     "title": ""
    }
   },
   "source": [
    "**68. Dataframe Joins and column name ambiguity**"
   ]
  },
  {
   "cell_type": "code",
   "execution_count": 0,
   "metadata": {
    "application/vnd.databricks.v1+cell": {
     "cellMetadata": {
      "byteLimit": 2048000,
      "rowLimit": 10000
     },
     "inputWidgets": {},
     "nuid": "9fc4c84b-30ed-4cfb-945b-2fb8d76a84b9",
     "showTitle": false,
     "title": ""
    }
   },
   "outputs": [
    {
     "output_type": "stream",
     "name": "stdout",
     "output_type": "stream",
     "text": [
      "+-------+-------------------+----------+---+\n|prod_id|          prod_name|list_price|qty|\n+-------+-------------------+----------+---+\n|     01|       Scroll Mouse|       250| 20|\n|     02|      Optical Mouse|       350| 20|\n|     03|     Wireless Mouse|       450| 50|\n|     04|  Wireless Keyboard|       580| 50|\n|     05|  Standard Keyboard|       360| 10|\n|     06|16 GB Flash Storage|       240|100|\n|     07|32 GB Flash Storage|       320| 50|\n|     08|64 GB Flash Storage|       430| 25|\n+-------+-------------------+----------+---+\n\n+--------+-------+----------+---+\n|order_id|prod_id|unit_price|qty|\n+--------+-------+----------+---+\n|      01|     02|       350|  1|\n|      01|     04|       580|  1|\n|      01|     07|       320|  2|\n|      02|     03|       450|  1|\n|      02|     06|       220|  1|\n|      03|     01|       195|  1|\n|      04|     09|       270|  3|\n|      04|     08|       410|  2|\n|      05|     02|       350|  1|\n+--------+-------+----------+---+\n\n"
     ]
    }
   ],
   "source": [
    "orders_list = [(\"01\", \"02\", 350, 1),\n",
    "                (\"01\", \"04\", 580, 1),\n",
    "                (\"01\", \"07\", 320, 2),\n",
    "                (\"02\", \"03\", 450, 1),\n",
    "                (\"02\", \"06\", 220, 1),\n",
    "                (\"03\", \"01\", 195, 1),\n",
    "                (\"04\", \"09\", 270, 3),\n",
    "                (\"04\", \"08\", 410, 2),\n",
    "                (\"05\", \"02\", 350, 1)]\n",
    "\n",
    "order_df = spark.createDataFrame(orders_list).toDF(\"order_id\", \"prod_id\", \"unit_price\", \"qty\")\n",
    "\n",
    "product_list = [(\"01\", \"Scroll Mouse\", 250, 20),\n",
    "                (\"02\", \"Optical Mouse\", 350, 20),\n",
    "                (\"03\", \"Wireless Mouse\", 450, 50),\n",
    "                (\"04\", \"Wireless Keyboard\", 580, 50),\n",
    "                (\"05\", \"Standard Keyboard\", 360, 10),\n",
    "                (\"06\", \"16 GB Flash Storage\", 240, 100),\n",
    "                (\"07\", \"32 GB Flash Storage\", 320, 50),\n",
    "                (\"08\", \"64 GB Flash Storage\", 430, 25)]\n",
    "\n",
    "product_df = spark.createDataFrame(product_list).toDF(\"prod_id\", \"prod_name\", \"list_price\", \"qty\")\n",
    "\n",
    "product_df.show()\n",
    "order_df.show()"
   ]
  },
  {
   "cell_type": "code",
   "execution_count": 0,
   "metadata": {
    "application/vnd.databricks.v1+cell": {
     "cellMetadata": {
      "byteLimit": 2048000,
      "rowLimit": 10000
     },
     "inputWidgets": {},
     "nuid": "553a87a3-2c99-403f-9bc4-71a90ac33094",
     "showTitle": false,
     "title": ""
    }
   },
   "outputs": [
    {
     "output_type": "stream",
     "name": "stdout",
     "output_type": "stream",
     "text": [
      "+--------+-------+----------+---+-------+-------------------+----------+---+\n|order_id|prod_id|unit_price|qty|prod_id|          prod_name|list_price|qty|\n+--------+-------+----------+---+-------+-------------------+----------+---+\n|      03|     01|       195|  1|     01|       Scroll Mouse|       250| 20|\n|      01|     02|       350|  1|     02|      Optical Mouse|       350| 20|\n|      05|     02|       350|  1|     02|      Optical Mouse|       350| 20|\n|      02|     03|       450|  1|     03|     Wireless Mouse|       450| 50|\n|      01|     04|       580|  1|     04|  Wireless Keyboard|       580| 50|\n|      02|     06|       220|  1|     06|16 GB Flash Storage|       240|100|\n|      01|     07|       320|  2|     07|32 GB Flash Storage|       320| 50|\n|      04|     08|       410|  2|     08|64 GB Flash Storage|       430| 25|\n+--------+-------+----------+---+-------+-------------------+----------+---+\n\n"
     ]
    }
   ],
   "source": [
    "join_expr = order_df.prod_id == product_df.prod_id\n",
    "\n",
    "order_df.join(product_df, join_expr, \"inner\") \\\n",
    "        .show()"
   ]
  },
  {
   "cell_type": "code",
   "execution_count": 0,
   "metadata": {
    "application/vnd.databricks.v1+cell": {
     "cellMetadata": {
      "byteLimit": 2048000,
      "rowLimit": 10000
     },
     "inputWidgets": {},
     "nuid": "293bbaa4-b3b0-4ea5-9647-e56d104693f8",
     "showTitle": false,
     "title": ""
    }
   },
   "outputs": [
    {
     "output_type": "stream",
     "name": "stdout",
     "output_type": "stream",
     "text": [
      "+--------+-------------------+----------+---+\n|order_id|          prod_name|unit_price|qty|\n+--------+-------------------+----------+---+\n|      03|       Scroll Mouse|       195|  1|\n|      01|      Optical Mouse|       350|  1|\n|      05|      Optical Mouse|       350|  1|\n|      02|     Wireless Mouse|       450|  1|\n|      01|  Wireless Keyboard|       580|  1|\n|      02|16 GB Flash Storage|       220|  1|\n|      01|32 GB Flash Storage|       320|  2|\n|      04|64 GB Flash Storage|       410|  2|\n+--------+-------------------+----------+---+\n\n"
     ]
    }
   ],
   "source": [
    "product_renamed_df = product_df.withColumnRenamed(\"qty\",\"reorder_qty\")\n",
    "\n",
    "order_df.join(product_renamed_df, join_expr, \"inner\") \\\n",
    "        .select(\"order_id\", \"prod_name\", \"unit_price\", \"qty\") \\\n",
    "        .show()"
   ]
  },
  {
   "cell_type": "code",
   "execution_count": 0,
   "metadata": {
    "application/vnd.databricks.v1+cell": {
     "cellMetadata": {
      "byteLimit": 2048000,
      "rowLimit": 10000
     },
     "inputWidgets": {},
     "nuid": "d9347f77-22e6-4f49-aefb-78606162f63d",
     "showTitle": false,
     "title": ""
    }
   },
   "outputs": [
    {
     "output_type": "stream",
     "name": "stdout",
     "output_type": "stream",
     "text": [
      "+--------+-------+----------+---+\n|order_id|prod_id|unit_price|qty|\n+--------+-------+----------+---+\n|      03|     01|       195|  1|\n|      01|     02|       350|  1|\n|      05|     02|       350|  1|\n|      02|     03|       450|  1|\n|      01|     04|       580|  1|\n|      02|     06|       220|  1|\n|      01|     07|       320|  2|\n|      04|     08|       410|  2|\n+--------+-------+----------+---+\n\n"
     ]
    }
   ],
   "source": [
    "order_df.join(product_renamed_df, join_expr, \"inner\") \\\n",
    "        .drop(product_renamed_df.prod_id) \\\n",
    "        .select(\"order_id\", \"prod_id\", \"unit_price\", \"qty\") \\\n",
    "        .show()"
   ]
  },
  {
   "cell_type": "markdown",
   "metadata": {
    "application/vnd.databricks.v1+cell": {
     "cellMetadata": {},
     "inputWidgets": {},
     "nuid": "78286950-cea4-4ce3-89d0-1bfd973b19b0",
     "showTitle": false,
     "title": ""
    }
   },
   "source": [
    "**69. Outer Joins and Dataframe**"
   ]
  },
  {
   "cell_type": "code",
   "execution_count": 0,
   "metadata": {
    "application/vnd.databricks.v1+cell": {
     "cellMetadata": {
      "byteLimit": 2048000,
      "rowLimit": 10000
     },
     "inputWidgets": {},
     "nuid": "c25b09eb-0868-4729-8530-f57ff7052456",
     "showTitle": false,
     "title": ""
    }
   },
   "outputs": [
    {
     "output_type": "stream",
     "name": "stdout",
     "output_type": "stream",
     "text": [
      "+--------+-------+----------+----+-------------------+----------+-----------+\n|order_id|prod_id|unit_price| qty|          prod_name|list_price|reorder_qty|\n+--------+-------+----------+----+-------------------+----------+-----------+\n|    null|   null|      null|null|  Standard Keyboard|       360|         10|\n|      01|     02|       350|   1|      Optical Mouse|       350|         20|\n|      01|     04|       580|   1|  Wireless Keyboard|       580|         50|\n|      01|     07|       320|   2|32 GB Flash Storage|       320|         50|\n|      02|     03|       450|   1|     Wireless Mouse|       450|         50|\n|      02|     06|       220|   1|16 GB Flash Storage|       240|        100|\n|      03|     01|       195|   1|       Scroll Mouse|       250|         20|\n|      04|     08|       410|   2|64 GB Flash Storage|       430|         25|\n|      04|     09|       270|   3|               null|      null|       null|\n|      05|     02|       350|   1|      Optical Mouse|       350|         20|\n+--------+-------+----------+----+-------------------+----------+-----------+\n\n"
     ]
    }
   ],
   "source": [
    "order_df.join(product_renamed_df, join_expr, \"outer\") \\\n",
    "        .drop(product_renamed_df.prod_id) \\\n",
    "        .select(\"*\") \\\n",
    "        .sort(\"order_id\") \\\n",
    "        .show()"
   ]
  },
  {
   "cell_type": "code",
   "execution_count": 0,
   "metadata": {
    "application/vnd.databricks.v1+cell": {
     "cellMetadata": {
      "byteLimit": 2048000,
      "rowLimit": 10000
     },
     "inputWidgets": {},
     "nuid": "e919e571-a68a-4b4d-a164-dbc962c1e76a",
     "showTitle": false,
     "title": ""
    }
   },
   "outputs": [
    {
     "output_type": "stream",
     "name": "stdout",
     "output_type": "stream",
     "text": [
      "+--------+-------+-------------------+----------+----------+---+\n|order_id|prod_id|          prod_name|unit_price|list_price|qty|\n+--------+-------+-------------------+----------+----------+---+\n|      01|     04|  Wireless Keyboard|       580|       580|  1|\n|      01|     07|32 GB Flash Storage|       320|       320|  2|\n|      01|     02|      Optical Mouse|       350|       350|  1|\n|      02|     06|16 GB Flash Storage|       220|       240|  1|\n|      02|     03|     Wireless Mouse|       450|       450|  1|\n|      03|     01|       Scroll Mouse|       195|       250|  1|\n|      04|     09|               null|       270|      null|  3|\n|      04|     08|64 GB Flash Storage|       410|       430|  2|\n|      05|     02|      Optical Mouse|       350|       350|  1|\n+--------+-------+-------------------+----------+----------+---+\n\n"
     ]
    }
   ],
   "source": [
    "order_df.join(product_renamed_df, join_expr, \"left\") \\\n",
    "        .drop(product_renamed_df.prod_id) \\\n",
    "        .select(\"order_id\",\"prod_id\",\"prod_name\", \"unit_price\",\"list_price\",\"qty\") \\\n",
    "        .sort(\"order_id\") \\\n",
    "        .show()"
   ]
  },
  {
   "cell_type": "code",
   "execution_count": 0,
   "metadata": {
    "application/vnd.databricks.v1+cell": {
     "cellMetadata": {
      "byteLimit": 2048000,
      "rowLimit": 10000
     },
     "inputWidgets": {},
     "nuid": "e6d16d1a-2185-4d71-b356-be52e04527b1",
     "showTitle": false,
     "title": ""
    }
   },
   "outputs": [
    {
     "output_type": "stream",
     "name": "stdout",
     "output_type": "stream",
     "text": [
      "+--------+-------+-------------------+----------+----------+---+\n|order_id|prod_id|          prod_name|unit_price|list_price|qty|\n+--------+-------+-------------------+----------+----------+---+\n|      01|     04|  Wireless Keyboard|       580|       580|  1|\n|      01|     02|      Optical Mouse|       350|       350|  1|\n|      01|     07|32 GB Flash Storage|       320|       320|  2|\n|      02|     06|16 GB Flash Storage|       220|       240|  1|\n|      02|     03|     Wireless Mouse|       450|       450|  1|\n|      03|     01|       Scroll Mouse|       195|       250|  1|\n|      04|     08|64 GB Flash Storage|       410|       430|  2|\n|      04|     09|                 09|       270|       270|  3|\n|      05|     02|      Optical Mouse|       350|       350|  1|\n+--------+-------+-------------------+----------+----------+---+\n\n"
     ]
    }
   ],
   "source": [
    "from pyspark.sql.functions import expr\n",
    "\n",
    "order_df.join(product_renamed_df, join_expr, \"left\") \\\n",
    "        .drop(product_renamed_df.prod_id) \\\n",
    "        .select(\"order_id\",\"prod_id\",\"prod_name\", \"unit_price\",\"list_price\",\"qty\") \\\n",
    "        .withColumn(\"prod_name\",expr(\"coalesce(prod_name, prod_id)\")) \\\n",
    "        .withColumn(\"list_price\",expr(\"coalesce(list_price, unit_price)\")) \\\n",
    "        .sort(\"order_id\") \\\n",
    "        .show()"
   ]
  }
 ],
 "metadata": {
  "application/vnd.databricks.v1+notebook": {
   "dashboards": [],
   "environmentMetadata": null,
   "language": "python",
   "notebookMetadata": {
    "pythonIndentUnit": 4
   },
   "notebookName": "Section 10 Workbook",
   "widgets": {}
  }
 },
 "nbformat": 4,
 "nbformat_minor": 0
}
