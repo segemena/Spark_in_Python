{
 "cells": [
  {
   "cell_type": "code",
   "execution_count": 0,
   "metadata": {
    "application/vnd.databricks.v1+cell": {
     "cellMetadata": {
      "byteLimit": 2048000,
      "rowLimit": 10000
     },
     "inputWidgets": {},
     "nuid": "eb3e3d5e-f6a9-4084-af22-9178eb021d9d",
     "showTitle": false,
     "title": ""
    }
   },
   "outputs": [
    {
     "output_type": "stream",
     "name": "stdout",
     "output_type": "stream",
     "text": [
      "+-------------------+---+------+--------------+-----+-------------+--------------+---------+--------------+--------------+-----------+------------+----------+------------+----------------+----------+----------+------------------+-------------------------+-----------------------+------------+----------+-----------------------+---------------------+------------------+---------------+--------+\n|          Timestamp|Age|Gender|       Country|state|self_employed|family_history|treatment|work_interfere|  no_employees|remote_work|tech_company|  benefits|care_options|wellness_program| seek_help| anonymity|             leave|mental_health_consequence|phys_health_consequence|   coworkers|supervisor|mental_health_interview|phys_health_interview|mental_vs_physical|obs_consequence|comments|\n+-------------------+---+------+--------------+-----+-------------+--------------+---------+--------------+--------------+-----------+------------+----------+------------+----------------+----------+----------+------------------+-------------------------+-----------------------+------------+----------+-----------------------+---------------------+------------------+---------------+--------+\n|2014-08-27 11:29:31| 37|Female| United States|   IL|           NA|            No|      Yes|         Often|          6-25|         No|         Yes|       Yes|    Not sure|              No|       Yes|       Yes|     Somewhat easy|                       No|                     No|Some of them|       Yes|                     No|                Maybe|               Yes|             No|      NA|\n|2014-08-27 11:29:37| 44|     M| United States|   IN|           NA|            No|       No|        Rarely|More than 1000|         No|          No|Don't know|          No|      Don't know|Don't know|Don't know|        Don't know|                    Maybe|                     No|          No|        No|                     No|                   No|        Don't know|             No|      NA|\n|2014-08-27 11:29:44| 32|  Male|        Canada|   NA|           NA|            No|       No|        Rarely|          6-25|         No|         Yes|        No|          No|              No|        No|Don't know|Somewhat difficult|                       No|                     No|         Yes|       Yes|                    Yes|                  Yes|                No|             No|      NA|\n|2014-08-27 11:29:46| 31|  Male|United Kingdom|   NA|           NA|           Yes|      Yes|         Often|        26-100|         No|         Yes|        No|         Yes|              No|        No|        No|Somewhat difficult|                      Yes|                    Yes|Some of them|        No|                  Maybe|                Maybe|                No|            Yes|      NA|\n|2014-08-27 11:30:22| 31|  Male| United States|   TX|           NA|            No|       No|         Never|       100-500|        Yes|         Yes|       Yes|          No|      Don't know|Don't know|Don't know|        Don't know|                       No|                     No|Some of them|       Yes|                    Yes|                  Yes|        Don't know|             No|      NA|\n|2014-08-27 11:31:22| 33|  Male| United States|   TN|           NA|           Yes|       No|     Sometimes|          6-25|         No|         Yes|       Yes|    Not sure|              No|Don't know|Don't know|        Don't know|                       No|                     No|         Yes|       Yes|                     No|                Maybe|        Don't know|             No|      NA|\n|2014-08-27 11:31:50| 35|Female| United States|   MI|           NA|           Yes|      Yes|     Sometimes|           1-5|        Yes|         Yes|        No|          No|              No|        No|        No|Somewhat difficult|                    Maybe|                  Maybe|Some of them|        No|                     No|                   No|        Don't know|             No|      NA|\n|2014-08-27 11:32:05| 39|     M|        Canada|   NA|           NA|            No|       No|         Never|           1-5|        Yes|         Yes|        No|         Yes|              No|        No|       Yes|        Don't know|                       No|                     No|          No|        No|                     No|                   No|                No|             No|      NA|\n|2014-08-27 11:32:39| 42|Female| United States|   IL|           NA|           Yes|      Yes|     Sometimes|       100-500|         No|         Yes|       Yes|         Yes|              No|        No|        No|    Very difficult|                    Maybe|                     No|         Yes|       Yes|                     No|                Maybe|                No|             No|      NA|\n+-------------------+---+------+--------------+-----+-------------+--------------+---------+--------------+--------------+-----------+------------+----------+------------+----------------+----------+----------+------------------+-------------------------+-----------------------+------------+----------+-----------------------+---------------------+------------------+---------------+--------+\n\n"
     ]
    }
   ],
   "source": [
    "diamonds_df = spark.read.format(\"csv\") \\\n",
    "                    .option(\"header\",\"true\") \\\n",
    "                    .option(\"inferSchema\",\"true\") \\\n",
    "                    .load(\"/FileStore/sample_data/sample.csv\")\n",
    "\n",
    "diamonds_df.show(10)"
   ]
  },
  {
   "cell_type": "code",
   "execution_count": 0,
   "metadata": {
    "application/vnd.databricks.v1+cell": {
     "cellMetadata": {
      "byteLimit": 2048000,
      "rowLimit": 10000
     },
     "inputWidgets": {},
     "nuid": "c4262bdd-8fdc-421f-b11a-e78f09aadff1",
     "showTitle": false,
     "title": ""
    }
   },
   "outputs": [
    {
     "output_type": "stream",
     "name": "stdout",
     "output_type": "stream",
     "text": [
      "+------+--------+\n|Gender|avg(Age)|\n+------+--------+\n|Female|    38.0|\n|     M|    41.5|\n|  Male|   31.75|\n+------+--------+\n\n"
     ]
    }
   ],
   "source": [
    "from pyspark.sql.functions import avg\n",
    "\n",
    "results_df = diamonds_df.select(\"Age\",\"Gender\") \\\n",
    "                    .groupBy(\"Gender\") \\\n",
    "                    .agg(avg(\"Age\")) \\\n",
    "                    .sort(\"Gender\")\n",
    "\n",
    "results_df.show()"
   ]
  },
  {
   "cell_type": "code",
   "execution_count": 0,
   "metadata": {
    "application/vnd.databricks.v1+cell": {
     "cellMetadata": {
      "byteLimit": 2048000,
      "rowLimit": 10000
     },
     "inputWidgets": {},
     "nuid": "7363dfac-95ac-4877-ae17-f25d82401460",
     "showTitle": false,
     "title": ""
    }
   },
   "outputs": [
    {
     "output_type": "display_data",
     "data": {
      "text/html": [
       "<style scoped>\n",
       "  .table-result-container {\n",
       "    max-height: 300px;\n",
       "    overflow: auto;\n",
       "  }\n",
       "  table, th, td {\n",
       "    border: 1px solid black;\n",
       "    border-collapse: collapse;\n",
       "  }\n",
       "  th, td {\n",
       "    padding: 5px;\n",
       "  }\n",
       "  th {\n",
       "    text-align: left;\n",
       "  }\n",
       "</style><div class='table-result-container'><table class='table-result'><thead style='background-color: white'><tr><th>Gender</th><th>avg(Age)</th></tr></thead><tbody><tr><td>Female</td><td>38.0</td></tr><tr><td>M</td><td>41.5</td></tr><tr><td>Male</td><td>31.75</td></tr></tbody></table></div>"
      ]
     },
     "metadata": {
      "application/vnd.databricks.v1+output": {
       "addedWidgets": {},
       "aggData": [],
       "aggError": "",
       "aggOverflow": false,
       "aggSchema": [],
       "aggSeriesLimitReached": false,
       "aggType": "",
       "arguments": {},
       "columnCustomDisplayInfos": {},
       "data": [
        [
         "Female",
         38.0
        ],
        [
         "M",
         41.5
        ],
        [
         "Male",
         31.75
        ]
       ],
       "datasetInfos": [],
       "dbfsResultPath": null,
       "isJsonSchema": true,
       "metadata": {},
       "overflow": false,
       "plotOptions": {
        "customPlotOptions": {},
        "displayType": "table",
        "pivotAggregation": null,
        "pivotColumns": null,
        "xColumns": null,
        "yColumns": null
       },
       "removedWidgets": [],
       "schema": [
        {
         "metadata": "{}",
         "name": "Gender",
         "type": "\"string\""
        },
        {
         "metadata": "{}",
         "name": "avg(Age)",
         "type": "\"double\""
        }
       ],
       "type": "table"
      }
     },
     "output_type": "display_data"
    },
    {
     "output_type": "display_data",
     "data": {
      "text/plain": [
       "Databricks visualization. Run in Databricks to view."
      ]
     },
     "metadata": {
      "application/vnd.databricks.v1.subcommand+json": {
       "baseErrorDetails": null,
       "bindings": {},
       "collapsed": false,
       "command": "%python\n__backend_agg_display_orig = display\n__backend_agg_dfs = []\ndef __backend_agg_display_new(df):\n    __backend_agg_df_modules = [\"pandas.core.frame\", \"databricks.koalas.frame\", \"pyspark.sql.dataframe\", \"pyspark.pandas.frame\", \"pyspark.sql.connect.dataframe\"]\n    if (type(df).__module__ in __backend_agg_df_modules and type(df).__name__ == 'DataFrame') or isinstance(df, list):\n        __backend_agg_dfs.append(df)\n\ndisplay = __backend_agg_display_new\n\ndef __backend_agg_user_code_fn():\n    import base64\n    exec(base64.standard_b64decode(\"ZGlzcGxheShyZXN1bHRzX2RmKQ==\").decode())\n\ntry:\n    # run user code\n    __backend_agg_user_code_fn()\n\n    #reset display function\n    display = __backend_agg_display_orig\n\n    if len(__backend_agg_dfs) > 0:\n        # create a temp view\n        if type(__backend_agg_dfs[0]).__module__ == \"databricks.koalas.frame\":\n            # koalas dataframe\n            __backend_agg_dfs[0].to_spark().createOrReplaceTempView(\"DatabricksView5169f9b\")\n        elif type(__backend_agg_dfs[0]).__module__ == \"pandas.core.frame\" or isinstance(__backend_agg_dfs[0], list):\n            # pandas dataframe\n            spark.createDataFrame(__backend_agg_dfs[0]).createOrReplaceTempView(\"DatabricksView5169f9b\")\n        else:\n            __backend_agg_dfs[0].createOrReplaceTempView(\"DatabricksView5169f9b\")\n        #run backend agg\n        display(spark.sql(\"\"\"WITH q AS (select * from DatabricksView5169f9b) SELECT `Gender`,SUM(`avg(Age)`) `column_6fc613c22` FROM q GROUP BY `Gender`\"\"\"))\n    else:\n        displayHTML(\"dataframe no longer exists. If you're using dataframe.display(), use display(dataframe) instead.\")\n\n\nfinally:\n    spark.sql(\"drop view if exists DatabricksView5169f9b\")\n    display = __backend_agg_display_orig\n    del __backend_agg_display_new\n    del __backend_agg_display_orig\n    del __backend_agg_dfs\n    del __backend_agg_user_code_fn\n\n",
       "commandTitle": "Visualization 1",
       "commandType": "auto",
       "commandVersion": 0,
       "commentThread": [],
       "commentsVisible": false,
       "contentSha256Hex": null,
       "customPlotOptions": {
        "redashChart": [
         {
          "key": "type",
          "value": "CHART"
         },
         {
          "key": "options",
          "value": {
           "alignYAxesAtZero": true,
           "coefficient": 1,
           "columnConfigurationMap": {
            "x": {
             "column": "Gender",
             "id": "column_6fc613c21"
            },
            "y": [
             {
              "column": "avg(Age)",
              "id": "column_6fc613c22",
              "transform": "SUM"
             }
            ]
           },
           "dateTimeFormat": "DD/MM/YYYY HH:mm",
           "direction": {
            "type": "counterclockwise"
           },
           "error_y": {
            "type": "data",
            "visible": true
           },
           "globalSeriesType": "column",
           "legend": {
            "traceorder": "normal"
           },
           "missingValuesAsZero": true,
           "numberFormat": "0,0.[00000]",
           "percentFormat": "0[.]00%",
           "series": {
            "error_y": {
             "type": "data",
             "visible": true
            },
            "stacking": null
           },
           "seriesOptions": {
            "column_6fc613c22": {
             "name": "avg(Age)",
             "yAxis": 0
            }
           },
           "showDataLabels": false,
           "sizemode": "diameter",
           "sortX": true,
           "sortY": true,
           "swappedAxes": true,
           "textFormat": "",
           "useAggregationsUi": true,
           "valuesOptions": {},
           "version": 2,
           "xAxis": {
            "labels": {
             "enabled": true
            },
            "type": "-"
           },
           "yAxis": [
            {
             "type": "-"
            },
            {
             "opposite": true,
             "type": "-"
            }
           ]
          }
         }
        ]
       },
       "datasetPreviewNameToCmdIdMap": {},
       "diffDeletes": [],
       "diffInserts": [],
       "displayType": "redashChart",
       "error": null,
       "errorDetails": null,
       "errorSummary": null,
       "errorTraceType": null,
       "finishTime": 0,
       "globalVars": {},
       "guid": "",
       "height": "auto",
       "hideCommandCode": false,
       "hideCommandResult": false,
       "iPythonMetadata": null,
       "inputWidgets": {},
       "isLockedInExamMode": false,
       "latestUser": "a user",
       "latestUserId": null,
       "listResultMetadata": null,
       "metadata": {},
       "nuid": "0d202eb4-c71d-4420-9e68-04c8a0f95abc",
       "origId": 0,
       "parentHierarchy": [],
       "pivotAggregation": null,
       "pivotColumns": null,
       "position": 4.0,
       "resultDbfsErrorMessage": null,
       "resultDbfsStatus": "INLINED_IN_TREE",
       "results": null,
       "showCommandTitle": false,
       "startTime": 0,
       "state": "input",
       "streamStates": {},
       "subcommandOptions": {
        "queryPlan": {
         "groups": [
          {
           "column": "Gender",
           "type": "column"
          }
         ],
         "selects": [
          {
           "column": "Gender",
           "type": "column"
          },
          {
           "alias": "column_6fc613c22",
           "args": [
            {
             "column": "avg(Age)",
             "type": "column"
            }
           ],
           "function": "SUM",
           "type": "function"
          }
         ]
        }
       },
       "submitTime": 0,
       "subtype": "tableResultSubCmd.visualization",
       "tableResultIndex": 0,
       "useConsistentColors": false,
       "version": "CommandV1",
       "width": "auto",
       "workflows": [],
       "xColumns": null,
       "yColumns": null
      }
     },
     "output_type": "display_data"
    }
   ],
   "source": [
    "display(results_df)"
   ]
  },
  {
   "cell_type": "code",
   "execution_count": 0,
   "metadata": {
    "application/vnd.databricks.v1+cell": {
     "cellMetadata": {},
     "inputWidgets": {},
     "nuid": "82c3d8e0-cf43-4088-bc04-415105ffacbb",
     "showTitle": false,
     "title": ""
    }
   },
   "outputs": [],
   "source": []
  }
 ],
 "metadata": {
  "application/vnd.databricks.v1+notebook": {
   "dashboards": [],
   "environmentMetadata": null,
   "language": "python",
   "notebookMetadata": {
    "pythonIndentUnit": 4
   },
   "notebookName": "01-getting-started",
   "widgets": {}
  }
 },
 "nbformat": 4,
 "nbformat_minor": 0
}
